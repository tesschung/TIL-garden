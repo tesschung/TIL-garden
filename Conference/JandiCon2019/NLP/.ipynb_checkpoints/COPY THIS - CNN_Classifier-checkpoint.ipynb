{
 "cells": [
  {
   "cell_type": "markdown",
   "metadata": {},
   "source": [
    "Code is adapted from https://github.com/simonjisu/nsmc_study"
   ]
  },
  {
   "cell_type": "code",
   "execution_count": 1,
   "metadata": {},
   "outputs": [],
   "source": [
    "import torch\n",
    "import torch.nn as nn\n",
    "import torch.optim as optim\n",
    "import torch.nn.functional as F\n",
    "import numpy as np\n",
    "import pandas as pd\n",
    "import torchtext\n",
    "import nltk\n",
    "# from konlpy.tag import Mecab\n",
    "from torchtext.data import Field, BucketIterator, TabularDataset\n",
    "from torch.nn.utils.rnn import pack_padded_sequence, pad_packed_sequence"
   ]
  },
  {
   "cell_type": "code",
   "execution_count": 2,
   "metadata": {},
   "outputs": [
    {
     "data": {
      "text/plain": [
       "True"
      ]
     },
     "execution_count": 2,
     "metadata": {},
     "output_type": "execute_result"
    }
   ],
   "source": [
    "USE_CUDA = torch.cuda.is_available()\n",
    "USE_CUDA"
   ]
  },
  {
   "cell_type": "code",
   "execution_count": 3,
   "metadata": {},
   "outputs": [],
   "source": [
    "def pad_under_five(toknized):\n",
    "    \"\"\"\n",
    "    모델에서 5-gram 단위 필터를 사용하기 때문에\n",
    "    5-gram이 안되는 문장에 <pad>로 채워준다\n",
    "    \"\"\"\n",
    "    if len(toknized) < 5:\n",
    "        toknized.extend([\"<pad>\"]*(5-len(toknized)))\n",
    "    return toknized"
   ]
  },
  {
   "cell_type": "code",
   "execution_count": 4,
   "metadata": {},
   "outputs": [],
   "source": [
    "batch_size = 64"
   ]
  },
  {
   "cell_type": "code",
   "execution_count": 5,
   "metadata": {},
   "outputs": [],
   "source": [
    "#tagger = Mecab()\n",
    "#tagger = tagger.morphs\n",
    "tagger = str.split"
   ]
  },
  {
   "cell_type": "code",
   "execution_count": 6,
   "metadata": {},
   "outputs": [],
   "source": [
    "REVIEW = Field(tokenize=tagger, use_vocab=True, lower=True, #init_token=\"<s>\", eos_token=\"</s>\", \n",
    "               include_lengths=False, batch_first=True, preprocessing=pad_under_five)\n",
    "LABEL = Field(sequential=False, use_vocab=False, preprocessing=lambda x: int(x))"
   ]
  },
  {
   "cell_type": "code",
   "execution_count": 7,
   "metadata": {},
   "outputs": [],
   "source": [
    "train_data, test_data = TabularDataset.splits(\n",
    "                   path=\"nsmc/\", train='ratings_train.txt', validation=\"ratings_test.txt\",\n",
    "                   format='tsv', fields=[('id', None), ('document', REVIEW), ('label', LABEL)],\n",
    "                   filter_pred = lambda x: True if len(x.document) > 1 else False,\n",
    "                   skip_header=True)"
   ]
  },
  {
   "cell_type": "code",
   "execution_count": 8,
   "metadata": {},
   "outputs": [
    {
     "name": "stdout",
     "output_type": "stream",
     "text": [
      "150000 50000\n"
     ]
    }
   ],
   "source": [
    "print(len(train_data), len(test_data))"
   ]
  },
  {
   "cell_type": "code",
   "execution_count": 9,
   "metadata": {},
   "outputs": [],
   "source": [
    "REVIEW.build_vocab(train_data, min_freq=2)"
   ]
  },
  {
   "cell_type": "code",
   "execution_count": 10,
   "metadata": {},
   "outputs": [],
   "source": [
    "# make iterator for splits\n",
    "train_loader, test_loader = BucketIterator.splits(\n",
    "    (train_data, test_data), batch_size=batch_size,\n",
    "    sort_key=lambda x: len(x.document), sort_within_batch=True, repeat=False) "
   ]
  },
  {
   "cell_type": "code",
   "execution_count": 11,
   "metadata": {},
   "outputs": [],
   "source": [
    "class CNN_TEXT(nn.Module):\n",
    "    def __init__(self, vocab_size, embed_size, out_channel_size, output_size, ngrams, dropout_rate=0.5):\n",
    "        super(CNN_TEXT, self).__init__()\n",
    "        \n",
    "        self.V = vocab_size\n",
    "        self.D = embed_size\n",
    "        self.out_channel_size = out_channel_size\n",
    "        self.ngrams = ngrams\n",
    "        \n",
    "        self.embed = nn.Embedding(self.V, self.D)\n",
    "        self.convs = nn.ModuleList([nn.Conv1d(in_channels=1, \n",
    "                                              out_channels=self.out_channel_size,  # 채널 갯수\n",
    "                                              kernel_size=self.D*k,  # 훑고 지나갈 길이\n",
    "                                              stride=self.D) for k in self.ngrams])\n",
    "        \n",
    "        self.dropout = nn.Dropout(dropout_rate)\n",
    "        self.fc = nn.Linear(self.out_channel_size * len(self.ngrams), output_size)\n",
    "    \n",
    "    def forward(self, inputs):\n",
    "        # inputs: B, T\n",
    "        outputs = self.embed(inputs) # B, T, D\n",
    "        outputs = self.dropout(outputs) # B, T, D\n",
    "        outputs = [conv(outputs.view(outputs.size(0), 1, -1)) for conv in self.convs] # B, T, D > B, 1, T*D\n",
    "        outputs = [F.max_pool1d(o, o.size(2)).squeeze(2) for o in outputs] # \n",
    "        outputs = torch.cat(outputs, dim=1) # B, 3K\n",
    "        outputs = self.fc(outputs)\n",
    "        \n",
    "        return outputs"
   ]
  },
  {
   "cell_type": "code",
   "execution_count": 12,
   "metadata": {},
   "outputs": [],
   "source": [
    "STEP = 5\n",
    "BATCH_SIZE = 128\n",
    "EMBED = 300\n",
    "KERNEL_SIZES = [3, 4, 5]\n",
    "KERNEL_DIM = 100\n",
    "LR = 0.001"
   ]
  },
  {
   "cell_type": "code",
   "execution_count": 13,
   "metadata": {},
   "outputs": [],
   "source": [
    "model = CNN_TEXT(len(REVIEW.vocab), EMBED, KERNEL_DIM, 1, KERNEL_SIZES, dropout_rate=0.5)\n",
    "\n",
    "if USE_CUDA:\n",
    "    model = model.to('cuda')\n",
    "    \n",
    "loss_function = nn.BCEWithLogitsLoss()\n",
    "optimizer = optim.Adam(model.parameters(), lr=LR)\n",
    "scheduler = optim.lr_scheduler.MultiStepLR(optimizer, milestones=[3], gamma=0.1)"
   ]
  },
  {
   "cell_type": "code",
   "execution_count": 14,
   "metadata": {
    "scrolled": true
   },
   "outputs": [
    {
     "name": "stdout",
     "output_type": "stream",
     "text": [
      "[1/5]: mean_loss : 0.7501 , lr : 0.0010\n",
      "[1/5]: mean_loss : 0.7481 , lr : 0.0010\n",
      "[1/5]: mean_loss : 0.6956 , lr : 0.0010\n",
      "[1/5]: mean_loss : 0.6821 , lr : 0.0010\n",
      "[1/5]: mean_loss : 0.6676 , lr : 0.0010\n",
      "[1/5]: mean_loss : 0.6652 , lr : 0.0010\n",
      "[1/5]: mean_loss : 0.6550 , lr : 0.0010\n",
      "[1/5]: mean_loss : 0.6596 , lr : 0.0010\n",
      "[1/5]: mean_loss : 0.6459 , lr : 0.0010\n",
      "[1/5]: mean_loss : 0.6236 , lr : 0.0010\n",
      "[1/5]: mean_loss : 0.6185 , lr : 0.0010\n",
      "[1/5]: mean_loss : 0.6238 , lr : 0.0010\n",
      "[1/5]: mean_loss : 0.6127 , lr : 0.0010\n",
      "[1/5]: mean_loss : 0.5992 , lr : 0.0010\n",
      "[1/5]: mean_loss : 0.5958 , lr : 0.0010\n",
      "[1/5]: mean_loss : 0.5798 , lr : 0.0010\n",
      "[1/5]: mean_loss : 0.5788 , lr : 0.0010\n",
      "[1/5]: mean_loss : 0.5810 , lr : 0.0010\n",
      "[1/5]: mean_loss : 0.5738 , lr : 0.0010\n",
      "[1/5]: mean_loss : 0.5791 , lr : 0.0010\n",
      "[1/5]: mean_loss : 0.5703 , lr : 0.0010\n",
      "[1/5]: mean_loss : 0.5646 , lr : 0.0010\n",
      "[1/5]: mean_loss : 0.5581 , lr : 0.0010\n",
      "[1/5]: mean_loss : 0.5444 , lr : 0.0010\n",
      "[2/5]: mean_loss : 0.5897 , lr : 0.0010\n",
      "[2/5]: mean_loss : 0.5093 , lr : 0.0010\n",
      "[2/5]: mean_loss : 0.5111 , lr : 0.0010\n",
      "[2/5]: mean_loss : 0.5189 , lr : 0.0010\n",
      "[2/5]: mean_loss : 0.5082 , lr : 0.0010\n",
      "[2/5]: mean_loss : 0.5086 , lr : 0.0010\n",
      "[2/5]: mean_loss : 0.5102 , lr : 0.0010\n",
      "[2/5]: mean_loss : 0.5002 , lr : 0.0010\n",
      "[2/5]: mean_loss : 0.4971 , lr : 0.0010\n",
      "[2/5]: mean_loss : 0.5004 , lr : 0.0010\n",
      "[2/5]: mean_loss : 0.4989 , lr : 0.0010\n",
      "[2/5]: mean_loss : 0.4859 , lr : 0.0010\n",
      "[2/5]: mean_loss : 0.4928 , lr : 0.0010\n",
      "[2/5]: mean_loss : 0.4936 , lr : 0.0010\n",
      "[2/5]: mean_loss : 0.4854 , lr : 0.0010\n",
      "[2/5]: mean_loss : 0.4824 , lr : 0.0010\n",
      "[2/5]: mean_loss : 0.5252 , lr : 0.0010\n",
      "[2/5]: mean_loss : 0.4926 , lr : 0.0010\n",
      "[2/5]: mean_loss : 0.4676 , lr : 0.0010\n",
      "[2/5]: mean_loss : 0.4710 , lr : 0.0010\n",
      "[2/5]: mean_loss : 0.4861 , lr : 0.0010\n",
      "[2/5]: mean_loss : 0.4823 , lr : 0.0010\n",
      "[2/5]: mean_loss : 0.4715 , lr : 0.0010\n",
      "[2/5]: mean_loss : 0.4793 , lr : 0.0010\n",
      "[3/5]: mean_loss : 0.4579 , lr : 0.0000\n",
      "[3/5]: mean_loss : 0.4251 , lr : 0.0000\n",
      "[3/5]: mean_loss : 0.4223 , lr : 0.0000\n",
      "[3/5]: mean_loss : 0.4338 , lr : 0.0000\n",
      "[3/5]: mean_loss : 0.4168 , lr : 0.0000\n",
      "[3/5]: mean_loss : 0.4268 , lr : 0.0000\n",
      "[3/5]: mean_loss : 0.4340 , lr : 0.0000\n",
      "[3/5]: mean_loss : 0.4247 , lr : 0.0000\n",
      "[3/5]: mean_loss : 0.4335 , lr : 0.0000\n",
      "[3/5]: mean_loss : 0.4209 , lr : 0.0000\n",
      "[3/5]: mean_loss : 0.4193 , lr : 0.0000\n",
      "[3/5]: mean_loss : 0.4134 , lr : 0.0000\n",
      "[3/5]: mean_loss : 0.4261 , lr : 0.0000\n",
      "[3/5]: mean_loss : 0.4269 , lr : 0.0000\n",
      "[3/5]: mean_loss : 0.4122 , lr : 0.0000\n",
      "[3/5]: mean_loss : 0.4264 , lr : 0.0000\n",
      "[3/5]: mean_loss : 0.4299 , lr : 0.0000\n",
      "[3/5]: mean_loss : 0.4234 , lr : 0.0000\n",
      "[3/5]: mean_loss : 0.4247 , lr : 0.0000\n",
      "[3/5]: mean_loss : 0.4225 , lr : 0.0000\n",
      "[3/5]: mean_loss : 0.4204 , lr : 0.0000\n",
      "[3/5]: mean_loss : 0.4254 , lr : 0.0000\n",
      "[3/5]: mean_loss : 0.4188 , lr : 0.0000\n",
      "[3/5]: mean_loss : 0.4196 , lr : 0.0000\n",
      "[4/5]: mean_loss : 0.4374 , lr : 0.0001\n",
      "[4/5]: mean_loss : 0.4164 , lr : 0.0001\n",
      "[4/5]: mean_loss : 0.4158 , lr : 0.0001\n",
      "[4/5]: mean_loss : 0.4178 , lr : 0.0001\n",
      "[4/5]: mean_loss : 0.4098 , lr : 0.0001\n",
      "[4/5]: mean_loss : 0.4247 , lr : 0.0001\n",
      "[4/5]: mean_loss : 0.4190 , lr : 0.0001\n",
      "[4/5]: mean_loss : 0.4127 , lr : 0.0001\n",
      "[4/5]: mean_loss : 0.4271 , lr : 0.0001\n",
      "[4/5]: mean_loss : 0.4111 , lr : 0.0001\n",
      "[4/5]: mean_loss : 0.4155 , lr : 0.0001\n",
      "[4/5]: mean_loss : 0.4179 , lr : 0.0001\n",
      "[4/5]: mean_loss : 0.4160 , lr : 0.0001\n",
      "[4/5]: mean_loss : 0.4130 , lr : 0.0001\n",
      "[4/5]: mean_loss : 0.4123 , lr : 0.0001\n",
      "[4/5]: mean_loss : 0.4258 , lr : 0.0001\n",
      "[4/5]: mean_loss : 0.4217 , lr : 0.0001\n",
      "[4/5]: mean_loss : 0.4173 , lr : 0.0001\n",
      "[4/5]: mean_loss : 0.4185 , lr : 0.0001\n",
      "[4/5]: mean_loss : 0.4197 , lr : 0.0001\n",
      "[4/5]: mean_loss : 0.4217 , lr : 0.0001\n",
      "[4/5]: mean_loss : 0.4165 , lr : 0.0001\n",
      "[4/5]: mean_loss : 0.4093 , lr : 0.0001\n",
      "[4/5]: mean_loss : 0.4042 , lr : 0.0001\n",
      "[5/5]: mean_loss : 0.4646 , lr : 0.0001\n",
      "[5/5]: mean_loss : 0.4100 , lr : 0.0001\n",
      "[5/5]: mean_loss : 0.4183 , lr : 0.0001\n",
      "[5/5]: mean_loss : 0.3946 , lr : 0.0001\n",
      "[5/5]: mean_loss : 0.4119 , lr : 0.0001\n",
      "[5/5]: mean_loss : 0.4086 , lr : 0.0001\n",
      "[5/5]: mean_loss : 0.4024 , lr : 0.0001\n",
      "[5/5]: mean_loss : 0.4087 , lr : 0.0001\n",
      "[5/5]: mean_loss : 0.3991 , lr : 0.0001\n",
      "[5/5]: mean_loss : 0.4031 , lr : 0.0001\n",
      "[5/5]: mean_loss : 0.4226 , lr : 0.0001\n",
      "[5/5]: mean_loss : 0.3932 , lr : 0.0001\n",
      "[5/5]: mean_loss : 0.4092 , lr : 0.0001\n",
      "[5/5]: mean_loss : 0.4012 , lr : 0.0001\n",
      "[5/5]: mean_loss : 0.4083 , lr : 0.0001\n",
      "[5/5]: mean_loss : 0.4024 , lr : 0.0001\n",
      "[5/5]: mean_loss : 0.4266 , lr : 0.0001\n",
      "[5/5]: mean_loss : 0.4029 , lr : 0.0001\n",
      "[5/5]: mean_loss : 0.4028 , lr : 0.0001\n",
      "[5/5]: mean_loss : 0.4090 , lr : 0.0001\n",
      "[5/5]: mean_loss : 0.4086 , lr : 0.0001\n",
      "[5/5]: mean_loss : 0.4176 , lr : 0.0001\n",
      "[5/5]: mean_loss : 0.4062 , lr : 0.0001\n",
      "[5/5]: mean_loss : 0.4215 , lr : 0.0001\n"
     ]
    }
   ],
   "source": [
    "model.train()\n",
    "for step in range(STEP):\n",
    "    losses=[]\n",
    "    scheduler.step()\n",
    "    for i, batch in enumerate(train_loader):\n",
    "        inputs, targets = batch.document, batch.label.float()\n",
    "        if USE_CUDA:\n",
    "            inputs = inputs.cuda()\n",
    "            targets = targets.cuda()\n",
    "        model.zero_grad()\n",
    "        preds = model(inputs)\n",
    "        loss = loss_function(preds.squeeze(1), targets)\n",
    "        losses.append(loss.item())\n",
    "        loss.backward()\n",
    "        optimizer.step()\n",
    "        if i % 100 == 0:\n",
    "            print(\"[{}/{}]: mean_loss : {:.4f} , lr : {:.4f}\".format(\n",
    "                step+1, STEP, np.mean(losses), scheduler.get_lr()[0]))\n",
    "            losses=[]"
   ]
  },
  {
   "cell_type": "markdown",
   "metadata": {},
   "source": [
    "Test"
   ]
  },
  {
   "cell_type": "code",
   "execution_count": null,
   "metadata": {
    "scrolled": false
   },
   "outputs": [],
   "source": [
    "model.eval()\n",
    "num_hit=0\n",
    "for i, batch in enumerate(test_loader):\n",
    "    inputs, targets = batch.document, batch.label.float()\n",
    "    if USE_CUDA:\n",
    "        inputs = inputs.to('cuda')\n",
    "        targets = targets.to('cuda')\n",
    "\n",
    "    preds = model(inputs)\n",
    "    preds = torch.ge(F.sigmoid(preds), 0.5).float()\n",
    "    num_hit += torch.eq(preds.squeeze(), targets.squeeze()).sum().item()\n",
    "\n",
    "print(num_hit/len(test_data)*100)"
   ]
  },
  {
   "cell_type": "code",
   "execution_count": null,
   "metadata": {},
   "outputs": [],
   "source": [
    "inputs, targets = batch.document, batch.label.float()"
   ]
  },
  {
   "cell_type": "code",
   "execution_count": null,
   "metadata": {},
   "outputs": [],
   "source": [
    "preds = model(inputs)"
   ]
  },
  {
   "cell_type": "code",
   "execution_count": null,
   "metadata": {
    "scrolled": true
   },
   "outputs": [],
   "source": [
    "test_inputs = [\"헐 진짜 개별로다..\", \"진짜 너무 재밌는 영화다 오랜만에\",\"오..이건 진짜 봐야함\", \"진짜 쓰레기 같은 영화\",\"노잼\",\"존잼\",\"꾸울잼\",\"핵노잼\"]\n",
    "\n",
    "for test_input in test_inputs:\n",
    "    tokenized = tagger(test_input)\n",
    "    tokenized = pad_under_five(tokenized)\n",
    "    input_ = REVIEW.numericalize([tokenized])\n",
    "    if USE_CUDA: input_ = input_.cuda()\n",
    "\n",
    "    prediction = model(input_)\n",
    "    prediction = torch.ge(F.sigmoid(prediction), 0.5).float()\n",
    "    prediction = \"긍정\" if prediction.item() == 1 else \"부정\"\n",
    "    if prediction==\"긍정\":\n",
    "        print(test_input,\"\\033[1;01;36m\" + prediction + \"\\033[0m\")\n",
    "    else:\n",
    "        print(test_input,\"\\033[1;01;31m\" + prediction + \"\\033[0m\")"
   ]
  },
  {
   "cell_type": "code",
   "execution_count": null,
   "metadata": {},
   "outputs": [],
   "source": []
  }
 ],
 "metadata": {
  "kernelspec": {
   "display_name": "Python 3",
   "language": "python",
   "name": "python3"
  },
  "language_info": {
   "codemirror_mode": {
    "name": "ipython",
    "version": 3
   },
   "file_extension": ".py",
   "mimetype": "text/x-python",
   "name": "python",
   "nbconvert_exporter": "python",
   "pygments_lexer": "ipython3",
   "version": "3.7.3"
  }
 },
 "nbformat": 4,
 "nbformat_minor": 2
}
