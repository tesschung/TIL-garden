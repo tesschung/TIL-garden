{
 "cells": [
  {
   "cell_type": "markdown",
   "metadata": {},
   "source": [
    "# 종합소득세 계산하기\n",
    "\n",
    "> A라는 나라에서는 종합소득세는 과세표준 금액 구간에 따라 다른 세율이 적용됩니다.\n",
    "\n",
    "|과세표준액|세율|\n",
    "|-------|---|\n",
    "|1,200이하|6%|\n",
    "|1,200 ~ 4,600|15%|\n",
    "|4,600 ~ |35%|\n",
    "\n",
    "즉, 1,300만원을 벌었을 경우 `1,200\\*0.06 + 100\\*0.15`를 계산한 결과가 납부해야 하는 세액입니다.\n",
    "\n",
    "함수 `tax(won)`을 만들고 납부해야하는 세금의 결과를 반환하는 함수를 만들어보세요.\n",
    "\n",
    "---\n",
    "```\n",
    "예시)\n",
    "tax(1200) #=> 72.0\n",
    "tax(4600) #=> 582.0\n",
    "tax(5000) #=> 722.0\n",
    "```"
   ]
  },
  {
   "cell_type": "code",
   "execution_count": null,
   "metadata": {},
   "outputs": [],
   "source": [
    "# 여기에 코드를 작성하세요."
   ]
  },
  {
   "cell_type": "code",
   "execution_count": null,
   "metadata": {},
   "outputs": [],
   "source": [
    "def tax(won):\n",
    "    if won > 4600:\n",
    "        result = (1200*0.06) + (3400*0.15) + (won-4600)*0.35\n",
    "    elif won > 1200:\n",
    "        result = (1200*0.06) + (won-1200)*0.15\n",
    "    else:\n",
    "        result = won*0.06\n",
    "    return result"
   ]
  },
  {
   "cell_type": "code",
   "execution_count": null,
   "metadata": {},
   "outputs": [],
   "source": [
    "print(tax(1200))\n",
    "print(tax(4600))\n",
    "print(tax(5000))"
   ]
  },
  {
   "cell_type": "markdown",
   "metadata": {},
   "source": [
    "# 카쉐어링 요금 계산하기\n",
    "\n",
    "> 카쉐어링 서비스는 요금을 다음과 같이 계산합니다.\n",
    ">\n",
    "> 대여는 10분 단위로 가능합니다.\n",
    "> \n",
    "> 1. 대여 요금 : 10분당 1,200원\n",
    ">\n",
    "> 2. 보험료 : 30분당 525원 (50분을 빌리면, 1시간으로 계산됩니다.)\n",
    ">\n",
    "> 3. 주행 요금 : km당 170원 (주행 요금은 100km가 넘어가면, 넘어간 부분에 대하여 할인이 50% 적용됩니다.)\n",
    ">\n",
    "> 예) 160km를 달렸으면, 170\\*100 + 85 \\*60\n",
    ">\n",
    "> 양의 정수인 대여시간(분)과 주행거리를 받아 계산 결과를 반환하는 함수 fee(minute, distance)를 만들어보세요.\n",
    "---\n",
    "```\n",
    "예시) \n",
    "    fee(600, 50) #=> 91000\n",
    "    fee(600, 110) #=> 100350\n",
    "```"
   ]
  },
  {
   "cell_type": "code",
   "execution_count": null,
   "metadata": {},
   "outputs": [],
   "source": [
    "# 여기에 코드를 작성하세요.\n",
    "def fee(minute, distance):\n",
    "    result = minute*120 + (minute//30)*525\n",
    "    if distance > 100:\n",
    "        result += 17000 + 85*(distance-100)\n",
    "    else:\n",
    "        result += 170 * distance\n",
    "    return result"
   ]
  },
  {
   "cell_type": "code",
   "execution_count": null,
   "metadata": {
    "scrolled": true
   },
   "outputs": [],
   "source": [
    "print(fee(600, 50))\n",
    "print(fee(600, 110))"
   ]
  },
  {
   "cell_type": "markdown",
   "metadata": {},
   "source": [
    "# 문자열 탐색\n",
    "\n",
    "> 문자열 요소로만 이루어진 리스트를 넣었을 때, 문자열 길이가 2 이상이고 주어진 문자열의 첫번째와 마지막 문자가 같은 문자열의 수를 세는 함수 `start_end`를 작성하시오.\n",
    "\n",
    "예시)\n",
    "\n",
    "```python\n",
    "start_end(['level', 'asdwe', 's', 'abceda', 'gsdwrtfg']) #=> 3\n",
    "```\n"
   ]
  },
  {
   "cell_type": "code",
   "execution_count": null,
   "metadata": {},
   "outputs": [],
   "source": [
    "# 여기에 코드를 작성하세요.\n",
    "def start_end(words):\n",
    "    # 길이가 2보다 크고(and) 인덱스 0번째와 -1 번째 문자가 같은 경우 count 를 +1 씩 하겠다.\n",
    "    count = 0 \n",
    "    for word in words:\n",
    "        if len(word)>=2 and word[0]==word[-1]:\n",
    "            count += 1\n",
    "    return count"
   ]
  },
  {
   "cell_type": "code",
   "execution_count": null,
   "metadata": {},
   "outputs": [],
   "source": [
    "# 해당 코드를 통해 3이 나오는지 확인하세요.\n",
    "print(start_end(['level', 'asdwe', 's', 'abceda', 'gsdwrtfg']))"
   ]
  },
  {
   "cell_type": "markdown",
   "metadata": {},
   "source": [
    "\n",
    "# 이상한 덧셈\n",
    "\n",
    "> 숫자들을 받아서 양의 정수의 합을 구하는 함수 `positive_sum`을 작성하세요.\n",
    "\n",
    "예시)\n",
    "\n",
    "```python\n",
    "positive_sum(1,-4,7,12) #=> 20\n",
    "positive_sum(-1, -2, -3, -4) #=> 0\n",
    "```"
   ]
  },
  {
   "cell_type": "code",
   "execution_count": null,
   "metadata": {},
   "outputs": [],
   "source": [
    "# 여기에 코드를 작성하세요."
   ]
  },
  {
   "cell_type": "code",
   "execution_count": null,
   "metadata": {},
   "outputs": [],
   "source": [
    "def positive_sum(*args):\n",
    "    # 최종 합산 값 / 반복문을 통해 args 를 평가 / 크기가 0보다 큰지 / 크면 최종 합산 값에 더하기\n",
    "    result = 0\n",
    "    for i in args:\n",
    "        if i > 0:\n",
    "            result += i\n",
    "    return result"
   ]
  },
  {
   "cell_type": "code",
   "execution_count": null,
   "metadata": {},
   "outputs": [],
   "source": [
    "# 해당 코드를 통해 20과 0이 나오는지 확인하세요.\n",
    "print(positive_sum(1,-4,7,12))\n",
    "print(positive_sum(-1, -2, -3, -4))"
   ]
  },
  {
   "cell_type": "markdown",
   "metadata": {},
   "source": [
    "# Collatz 추측\n",
    "\n",
    "> 1937년 Collatz란 사람에 의해 제기된 이 추측은, 주어진 수가 1이 될때까지 다음 작업을 반복하면, 모든 수를 1로 만들 수 있다는 추측입니다. 작업은 다음과 같습니다.\n",
    ">\n",
    "> 1. 입력된 수가 짝수라면 2로 나눕니다. \n",
    "> 2. 입력된 수가 홀수라면 3을 곱하고 1을 더합니다.\n",
    "> 3. 결과로 나온 수에 같은 작업을 1이 될 때까지 반복합니다.\n",
    ">\n",
    "> 예를 들어, 입력된 수가 6이라면 6→3→10→5→16→8→4→2→1 이 되어 총 8번 만에 1이 됩니다.\n",
    ">\n",
    "> 위 작업을 몇 번이나 반복해야하는지 반환하는 함수, collatz를 완성해 주세요.\n",
    ">\n",
    "> 단, 작업을 500번을 반복해도 1이 되지 않는다면 –1을 반환해 주세요.\n",
    "\n",
    "예시)\n",
    "\n",
    "```python\n",
    "collatz(6) #=> 8\n",
    "collatz(16) #=> 4\n",
    "collatz(27) #=> 111\n",
    "collatz(626331) #=> -1\n",
    "```"
   ]
  },
  {
   "cell_type": "code",
   "execution_count": null,
   "metadata": {},
   "outputs": [],
   "source": [
    "# 여기에 코드를 작성하세요."
   ]
  },
  {
   "cell_type": "code",
   "execution_count": null,
   "metadata": {},
   "outputs": [],
   "source": [
    "def collatz(num):\n",
    "    # 500번 평가 / 짝수면 2로 나누고, 홀수면 3을 곱하고 +1 / 그러다가 500회전에 1이되면 몇번만에 1이 됐는지\n",
    "    for i in range(500):\n",
    "        num = num/2 if num%2==0 else num*3+1\n",
    "        if num == 1:\n",
    "            return i + 1\n",
    "    return -1"
   ]
  },
  {
   "cell_type": "code",
   "execution_count": null,
   "metadata": {},
   "outputs": [],
   "source": [
    "# 해당 코드를 통해 8, 4, 111, -1 이 나오는지 확인하세요.\n",
    "print(collatz(6))\n",
    "print(collatz(16))\n",
    "print(collatz(27))\n",
    "print(collatz(626331))"
   ]
  },
  {
   "cell_type": "markdown",
   "metadata": {},
   "source": [
    "# 솔로 천국 만들기\n",
    "\n",
    "> 리스트가 주어집니다. 리스트의 각 요소는 숫자 0부터 9까지로 이루어져 있습니다. \n",
    ">\n",
    "> 이때, 리스트에서 연속적으로 나타나는 숫자는 하나만 남기고 전부 제거하려고 합니다. \n",
    ">\n",
    "> 리스트에서 연속적으로 나타나는 숫자는 제거하고 남은 수들을 반환하는 lonely 함수를 작성해 주세요.\n",
    ">\n",
    "> 단, 제거된 후 남은 수들을 반환할 때는 리스트의 요소들의 순서를 유지해야 합니다.  \n",
    "\n",
    "예시)\n",
    "\n",
    "```python\n",
    "lonely([1, 1, 3, 3, 0, 1, 1]) #=> [1, 3, 0, 1]\n",
    "lonely([4, 4, 4, 3, 3]) #=> [4, 3]\n",
    "```\n"
   ]
  },
  {
   "cell_type": "code",
   "execution_count": null,
   "metadata": {},
   "outputs": [],
   "source": [
    "# 여기에 코드를 작성하세요.\n",
    "def lonely(numbers):\n",
    "    # 최종 결과 리스트 생성 / 일단 첫번째 수는 들어가야 함(인덱스 0)\n",
    "    # 그 다음 들어가는 수는 현재 리스트의 마지막 요소 (인덱스 -1) 와 비교 후 판단.\n",
    "    result = []\n",
    "    for idx, num in enumerate(numbers):\n",
    "        if idx == 0:\n",
    "            result.append(num)\n",
    "        if result[-1] != num:\n",
    "            result.append(num)\n",
    "    return result"
   ]
  },
  {
   "cell_type": "code",
   "execution_count": null,
   "metadata": {
    "scrolled": true
   },
   "outputs": [],
   "source": [
    "# 해당 코드를 통해 [1, 3, 0, 1]과 [4, 3]이 나오는지 확인하세요.\n",
    "print(lonely([1, 1, 3, 3, 0, 1, 1]))\n",
    "print(lonely([4, 4, 4, 3, 3]))"
   ]
  },
  {
   "cell_type": "code",
   "execution_count": null,
   "metadata": {},
   "outputs": [],
   "source": []
  },
  {
   "cell_type": "code",
   "execution_count": null,
   "metadata": {},
   "outputs": [],
   "source": []
  },
  {
   "cell_type": "code",
   "execution_count": null,
   "metadata": {},
   "outputs": [],
   "source": []
  },
  {
   "cell_type": "code",
   "execution_count": null,
   "metadata": {},
   "outputs": [],
   "source": []
  },
  {
   "cell_type": "code",
   "execution_count": null,
   "metadata": {},
   "outputs": [],
   "source": []
  },
  {
   "cell_type": "code",
   "execution_count": null,
   "metadata": {},
   "outputs": [],
   "source": []
  },
  {
   "cell_type": "code",
   "execution_count": null,
   "metadata": {},
   "outputs": [],
   "source": [
    "# Recommeneded\n",
    "def func(parameter=5):\n",
    "    pass\n",
    "\n",
    "# Not recommanded\n",
    "def func(parameter = 5):\n",
    "    pass"
   ]
  },
  {
   "cell_type": "code",
   "execution_count": null,
   "metadata": {},
   "outputs": [],
   "source": [
    "# Recommended\n",
    "y = x**2 + 5\n",
    "z = (x+y) * (x-y)\n",
    "\n",
    "# Not recommanded\n",
    "y = x ** 2 + 5\n",
    "z = (x + y) * (x - y)"
   ]
  },
  {
   "cell_type": "code",
   "execution_count": null,
   "metadata": {},
   "outputs": [],
   "source": [
    "# Not recommanded\n",
    "if x > 10 and x % 2 == 0:\n",
    "    pass\n",
    "\n",
    "# Recommended\n",
    "if x>10 and x%2==0:\n",
    "    pass\n",
    "\n",
    "# Definitely do not do this !\n",
    "if x >10 and x% 2== 0:\n",
    "    pass\n",
    "\n",
    "list = [1,2,3]\n",
    "list = [1, 2, 3]\n",
    "list = [ 1, 2, 3 ]\n",
    "print(x, y)\n",
    "\n",
    "func(5)\n",
    "func (5) # X"
   ]
  },
  {
   "cell_type": "code",
   "execution_count": null,
   "metadata": {},
   "outputs": [],
   "source": [
    "my_bool = 6 > 5\n",
    "if my_bool == True:\n",
    "    return 'Hello'\n",
    "\n",
    "my_bool = 6 > 5\n",
    "if my_bool:\n",
    "    return 'Hello'"
   ]
  },
  {
   "cell_type": "code",
   "execution_count": null,
   "metadata": {},
   "outputs": [],
   "source": []
  },
  {
   "cell_type": "code",
   "execution_count": null,
   "metadata": {},
   "outputs": [],
   "source": []
  },
  {
   "cell_type": "code",
   "execution_count": null,
   "metadata": {},
   "outputs": [],
   "source": []
  },
  {
   "cell_type": "code",
   "execution_count": null,
   "metadata": {},
   "outputs": [],
   "source": []
  },
  {
   "cell_type": "code",
   "execution_count": null,
   "metadata": {},
   "outputs": [],
   "source": []
  },
  {
   "cell_type": "code",
   "execution_count": null,
   "metadata": {},
   "outputs": [],
   "source": []
  }
 ],
 "metadata": {
  "kernelspec": {
   "display_name": "Python 3",
   "language": "python",
   "name": "python3"
  },
  "language_info": {
   "codemirror_mode": {
    "name": "ipython",
    "version": 3
   },
   "file_extension": ".py",
   "mimetype": "text/x-python",
   "name": "python",
   "nbconvert_exporter": "python",
   "pygments_lexer": "ipython3",
   "version": "3.7.3"
  },
  "toc": {
   "base_numbering": 1,
   "nav_menu": {},
   "number_sections": true,
   "sideBar": true,
   "skip_h1_title": false,
   "title_cell": "Table of Contents",
   "title_sidebar": "Contents",
   "toc_cell": false,
   "toc_position": {},
   "toc_section_display": true,
   "toc_window_display": false
  }
 },
 "nbformat": 4,
 "nbformat_minor": 2
}
