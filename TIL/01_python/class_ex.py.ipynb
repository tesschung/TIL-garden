{
 "cells": [
  {
   "cell_type": "markdown",
   "metadata": {},
   "source": [
    "# 클래스 연습해보기"
   ]
  },
  {
   "cell_type": "code",
   "execution_count": null,
   "metadata": {},
   "outputs": [],
   "source": [
    "class Person:\n",
    "    name = 'Daejeon'"
   ]
  },
  {
   "cell_type": "code",
   "execution_count": null,
   "metadata": {},
   "outputs": [],
   "source": [
    "p1 = Person()\n",
    "p2 = Person()"
   ]
  },
  {
   "cell_type": "markdown",
   "metadata": {},
   "source": [
    "- 선언한 클래스 Person 에는 멤버 변수(데이터)인 name 만 포함되어있다. 이후에 생성된 p1, p2 인스턴스에는 아직 인스턴스 객체의 특화된 데이터가 없기 때문에 여전히 클래스 객체에서 데이터를 참조한다."
   ]
  },
  {
   "cell_type": "code",
   "execution_count": null,
   "metadata": {},
   "outputs": [],
   "source": [
    "print(p1.name)"
   ]
  },
  {
   "cell_type": "code",
   "execution_count": null,
   "metadata": {},
   "outputs": [],
   "source": [
    "print(p2.name)"
   ]
  },
  {
   "cell_type": "markdown",
   "metadata": {},
   "source": [
    "- 인스턴스 객체 p1 의 멤버 변수인 name을 'Seoul'로 변경하면 인스턴스 p1의 이름공간에 존재하는 name 이라는 변수에 변경된 데이터를 저장.(원래는 Person 클래스의 멤버 변수인 name(Daejeon) 이라는 데이터를 참조함)\n",
    "- 하지만 인스턴스 객체 p2 의 경우 멤버 변수인 name은 변경되지 않았기 때문에 Person 클래스의 멤버 변수 name 을 참조한다."
   ]
  },
  {
   "cell_type": "code",
   "execution_count": null,
   "metadata": {},
   "outputs": [],
   "source": [
    "p1.name = 'Seoul'\n",
    "print(p1.name)"
   ]
  },
  {
   "cell_type": "code",
   "execution_count": null,
   "metadata": {},
   "outputs": [],
   "source": [
    "print(p2.name)"
   ]
  },
  {
   "cell_type": "markdown",
   "metadata": {},
   "source": [
    "- 파이썬은 클래스 객체와 인스턴스 객체에 동적으로 멤버 변수를 추가/삭제할 수 있다.\n",
    "- 클래스 객체 Person 에 멤버 변수인 title 을 추가 하였다. 이렇게 추가된 변수는 인스턴스 객체를 통해 접근하려는 경우, 인스턴스 객체에는 같은 이름의 다른 멤버 변수가 없기 때문에 클래스 객체의 이름공간을 참조해 정상적으로 접근할 수 있다."
   ]
  },
  {
   "cell_type": "code",
   "execution_count": null,
   "metadata": {},
   "outputs": [],
   "source": [
    "Person.title = 'Welcome Daejeon'"
   ]
  },
  {
   "cell_type": "code",
   "execution_count": null,
   "metadata": {},
   "outputs": [],
   "source": [
    "# p1, p2 인스턴스 모두에서 해당 멤버 변수(객체)에 접근 가능\n",
    "print(p1.title)\n",
    "print(p2.title)"
   ]
  },
  {
   "cell_type": "code",
   "execution_count": null,
   "metadata": {},
   "outputs": [],
   "source": [
    "# 클래스 객체에서도 접근 가능하다.\n",
    "print(Person.title)"
   ]
  },
  {
   "cell_type": "markdown",
   "metadata": {},
   "source": [
    "- p1 인스턴스 객체에 water 라는 멤버 변수를 추가하고, p2 인스턴스 객체를 통해 접근하는 경우에는 p2 의 이름공간과 Person 의 이름 공간에서는 해당 변수의 이름을 찾을 수 없기 때문에 에러가 발생한다.\n",
    "- 인스턴스 객체에 동적으로 멤버 변수를 추가한 경우에는 추가한 인스턴스 객체를 통해서만 접근할 수 있다.\n",
    "    - p1.water 는 p1 인스턴스 객체에만 접근한다.\n",
    "    - Person.title 은 클래스 객체에 접근하기 때문에 p1과 p2 인스턴스는 모두 title 이라는 멤버 변수를 참조할 수 있다."
   ]
  },
  {
   "cell_type": "code",
   "execution_count": null,
   "metadata": {},
   "outputs": [],
   "source": [
    "p1.water = '아리수'\n",
    "print(p1.water)"
   ]
  },
  {
   "cell_type": "code",
   "execution_count": null,
   "metadata": {},
   "outputs": [],
   "source": [
    "print(p2.water)"
   ]
  }
 ],
 "metadata": {
  "kernelspec": {
   "display_name": "Python 3",
   "language": "python",
   "name": "python3"
  },
  "language_info": {
   "codemirror_mode": {
    "name": "ipython",
    "version": 3
   },
   "file_extension": ".py",
   "mimetype": "text/x-python",
   "name": "python",
   "nbconvert_exporter": "python",
   "pygments_lexer": "ipython3",
   "version": "3.7.3"
  },
  "toc": {
   "base_numbering": 1,
   "nav_menu": {},
   "number_sections": true,
   "sideBar": true,
   "skip_h1_title": false,
   "title_cell": "Table of Contents",
   "title_sidebar": "Contents",
   "toc_cell": false,
   "toc_position": {},
   "toc_section_display": true,
   "toc_window_display": false
  }
 },
 "nbformat": 4,
 "nbformat_minor": 2
}
