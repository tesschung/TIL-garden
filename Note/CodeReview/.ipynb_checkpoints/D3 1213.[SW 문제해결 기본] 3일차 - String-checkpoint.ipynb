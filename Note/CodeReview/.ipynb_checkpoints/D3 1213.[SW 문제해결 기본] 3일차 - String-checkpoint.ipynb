{
 "cells": [
  {
   "cell_type": "code",
   "execution_count": null,
   "metadata": {},
   "outputs": [],
   "source": [
    "https://swexpertacademy.com/main/code/problem/problemDetail.do?contestProbId=AV14P0c6AAUCFAYi&categoryId=AV14P0c6AAUCFAYi&categoryType=CODE"
   ]
  },
  {
   "cell_type": "markdown",
   "metadata": {},
   "source": [
    "Sample Data\n",
    "\n",
    "\n",
    "1\n",
    "ti\n",
    "Starteatingwellwiththeseeighttipsforhealthyeating,whichcoverthebasicsofahealthydietandgoodnutrition\n",
    "2\n",
    "ing\n",
    "Thedoublehelixformsthestructuralbasisofsemi-conservativeDNAreplication.1,2Lessintuitively,italsohasimplicationsontheinformationcontentofDNAfordouble-strandedDNAassuchonlyhasabouthalfthestoragecapacityofsingle-strandedDNA.Thisisbecauseagivensequenceanditsreversecomplement,whilethesameinthedouble-strandedform,aredifferententitiesinsingle-strandedDNA?exceptforthosesequenceswhichareidenticaltotheirreversecomplement"
   ]
  },
  {
   "cell_type": "code",
   "execution_count": null,
   "metadata": {},
   "outputs": [],
   "source": [
    "# hejune"
   ]
  },
  {
   "cell_type": "code",
   "execution_count": 1,
   "metadata": {},
   "outputs": [
    {
     "name": "stdout",
     "output_type": "stream",
     "text": [
      "a[starting_i+len(b):] == ngwellwiththeseeighttipsforhealthyeating,whichcoverthebasicsofahealthydietandgoodnutrition\n",
      "a[starting_i+len(b):] == psforhealthyeating,whichcoverthebasicsofahealthydietandgoodnutrition\n",
      "a[starting_i+len(b):] == ng,whichcoverthebasicsofahealthydietandgoodnutrition\n",
      "a[starting_i+len(b):] == on\n",
      "#1 4\n"
     ]
    }
   ],
   "source": [
    "def countString(a, b): # 검색될 데이터와 문자열이 인자로 들어오는 함수 생성 a = 문자열, b = 검색데이터\n",
    "    cnt = 0 # 카운트할 변수 0으로 지정\n",
    "    while True: # break할때까지 즉, 특정 조건을 만족할때까지 반복\n",
    "        starting_i = a.find(b) # 문자열에서 검색데이터가 처음나온 제일 처음 인덱스를 starting_i라는 변수에 지정\n",
    "        if starting_i == -1: # 만약 해당 인덱스가 -1과 같아진다면, while문을 빠져나온다. * .find() 함수는 찾는 문자나 문자열이 존재하지 않는다면 -1을 반환\n",
    "            break\n",
    "        print('a[starting_i+len(b):] ==', a[starting_i+len(b):])\n",
    "        a = a[starting_i+len(b):] # 문자열[검색데이터의 첫 인덱스+검색데이터 길이를 더한 값 부터 끝까지] \n",
    "        cnt += 1 # 카운트해준다.\n",
    "    return cnt\n",
    "\n",
    "# Input 받는 곳!\n",
    "n = 1\n",
    "x = 'ti'\n",
    "y = 'Starteatingwellwiththeseeighttipsforhealthyeating,whichcoverthebasicsofahealthydietandgoodnutrition'\n",
    "print(f'#{n} {countString(y, x)}')"
   ]
  },
  {
   "cell_type": "code",
   "execution_count": null,
   "metadata": {},
   "outputs": [],
   "source": [
    "# 위치 알려주기1 .find()"
   ]
  },
  {
   "cell_type": "code",
   "execution_count": 12,
   "metadata": {},
   "outputs": [
    {
     "name": "stdout",
     "output_type": "stream",
     "text": [
      "2\n",
      "-1\n"
     ]
    }
   ],
   "source": [
    "a = \"Python is the best choice\"\n",
    "print(a.find('th'))\n",
    "print(a.find('k'))\n",
    "# 문자열 중 문자 b가 처음으로 나온 위치를 반환한다. 만약 찾는 문자나 문자열이 존재하지 않는다면 -1을 반환한다."
   ]
  },
  {
   "cell_type": "code",
   "execution_count": null,
   "metadata": {},
   "outputs": [],
   "source": [
    "# tess"
   ]
  },
  {
   "cell_type": "code",
   "execution_count": null,
   "metadata": {},
   "outputs": [],
   "source": [
    "# .find() 는 스트링 안에서의 검색 데이터에 대한 위치를 반환한다.\n",
    "\n",
    "def stringSearch(a, b):\n",
    "    count = 0\n",
    "    while True:\n",
    "        start = b.find(a)\n",
    "        if start == -1:\n",
    "            return count\n",
    "        else:\n",
    "            b = b[start+len(a):]\n",
    "            count += 1\n",
    "\n",
    "tc = input()\n",
    "target = input()\n",
    "search = input()\n",
    "print(tc, target, search)\n",
    "print(f'#{tc} {stringSearch(target, search)}')"
   ]
  },
  {
   "cell_type": "code",
   "execution_count": 14,
   "metadata": {},
   "outputs": [
    {
     "name": "stdout",
     "output_type": "stream",
     "text": [
      "letters[i:i+len(target)]: ['S', 't']\n",
      "letters[i:i+len(target)]: ['t', 'a']\n",
      "letters[i:i+len(target)]: ['a', 'r']\n",
      "letters[i:i+len(target)]: ['r', 't']\n",
      "letters[i:i+len(target)]: ['t', 'e']\n",
      "letters[i:i+len(target)]: ['e', 'a']\n",
      "letters[i:i+len(target)]: ['a', 't']\n",
      "letters[i:i+len(target)]: ['t', 'i']\n",
      "letters[i:i+len(target)]: ['i', 'n']\n",
      "letters[i:i+len(target)]: ['n', 'g']\n",
      "letters[i:i+len(target)]: ['g', 'w']\n",
      "letters[i:i+len(target)]: ['w', 'e']\n",
      "letters[i:i+len(target)]: ['e', 'l']\n",
      "letters[i:i+len(target)]: ['l', 'l']\n",
      "letters[i:i+len(target)]: ['l', 'w']\n",
      "letters[i:i+len(target)]: ['w', 'i']\n",
      "letters[i:i+len(target)]: ['i', 't']\n",
      "letters[i:i+len(target)]: ['t', 'h']\n",
      "letters[i:i+len(target)]: ['h', 't']\n",
      "letters[i:i+len(target)]: ['t', 'h']\n",
      "letters[i:i+len(target)]: ['h', 'e']\n",
      "letters[i:i+len(target)]: ['e', 's']\n",
      "letters[i:i+len(target)]: ['s', 'e']\n",
      "letters[i:i+len(target)]: ['e', 'e']\n",
      "letters[i:i+len(target)]: ['e', 'i']\n",
      "letters[i:i+len(target)]: ['i', 'g']\n",
      "letters[i:i+len(target)]: ['g', 'h']\n",
      "letters[i:i+len(target)]: ['h', 't']\n",
      "letters[i:i+len(target)]: ['t', 't']\n",
      "letters[i:i+len(target)]: ['t', 'i']\n",
      "letters[i:i+len(target)]: ['i', 'p']\n",
      "letters[i:i+len(target)]: ['p', 's']\n",
      "letters[i:i+len(target)]: ['s', 'f']\n",
      "letters[i:i+len(target)]: ['f', 'o']\n",
      "letters[i:i+len(target)]: ['o', 'r']\n",
      "letters[i:i+len(target)]: ['r', 'h']\n",
      "letters[i:i+len(target)]: ['h', 'e']\n",
      "letters[i:i+len(target)]: ['e', 'a']\n",
      "letters[i:i+len(target)]: ['a', 'l']\n",
      "letters[i:i+len(target)]: ['l', 't']\n",
      "letters[i:i+len(target)]: ['t', 'h']\n",
      "letters[i:i+len(target)]: ['h', 'y']\n",
      "letters[i:i+len(target)]: ['y', 'e']\n",
      "letters[i:i+len(target)]: ['e', 'a']\n",
      "letters[i:i+len(target)]: ['a', 't']\n",
      "letters[i:i+len(target)]: ['t', 'i']\n",
      "letters[i:i+len(target)]: ['i', 'n']\n",
      "letters[i:i+len(target)]: ['n', 'g']\n",
      "letters[i:i+len(target)]: ['g', ',']\n",
      "letters[i:i+len(target)]: [',', 'w']\n",
      "letters[i:i+len(target)]: ['w', 'h']\n",
      "letters[i:i+len(target)]: ['h', 'i']\n",
      "letters[i:i+len(target)]: ['i', 'c']\n",
      "letters[i:i+len(target)]: ['c', 'h']\n",
      "letters[i:i+len(target)]: ['h', 'c']\n",
      "letters[i:i+len(target)]: ['c', 'o']\n",
      "letters[i:i+len(target)]: ['o', 'v']\n",
      "letters[i:i+len(target)]: ['v', 'e']\n",
      "letters[i:i+len(target)]: ['e', 'r']\n",
      "letters[i:i+len(target)]: ['r', 't']\n",
      "letters[i:i+len(target)]: ['t', 'h']\n",
      "letters[i:i+len(target)]: ['h', 'e']\n",
      "letters[i:i+len(target)]: ['e', 'b']\n",
      "letters[i:i+len(target)]: ['b', 'a']\n",
      "letters[i:i+len(target)]: ['a', 's']\n",
      "letters[i:i+len(target)]: ['s', 'i']\n",
      "letters[i:i+len(target)]: ['i', 'c']\n",
      "letters[i:i+len(target)]: ['c', 's']\n",
      "letters[i:i+len(target)]: ['s', 'o']\n",
      "letters[i:i+len(target)]: ['o', 'f']\n",
      "letters[i:i+len(target)]: ['f', 'a']\n",
      "letters[i:i+len(target)]: ['a', 'h']\n",
      "letters[i:i+len(target)]: ['h', 'e']\n",
      "letters[i:i+len(target)]: ['e', 'a']\n",
      "letters[i:i+len(target)]: ['a', 'l']\n",
      "letters[i:i+len(target)]: ['l', 't']\n",
      "letters[i:i+len(target)]: ['t', 'h']\n",
      "letters[i:i+len(target)]: ['h', 'y']\n",
      "letters[i:i+len(target)]: ['y', 'd']\n",
      "letters[i:i+len(target)]: ['d', 'i']\n",
      "letters[i:i+len(target)]: ['i', 'e']\n",
      "letters[i:i+len(target)]: ['e', 't']\n",
      "letters[i:i+len(target)]: ['t', 'a']\n",
      "letters[i:i+len(target)]: ['a', 'n']\n",
      "letters[i:i+len(target)]: ['n', 'd']\n",
      "letters[i:i+len(target)]: ['d', 'g']\n",
      "letters[i:i+len(target)]: ['g', 'o']\n",
      "letters[i:i+len(target)]: ['o', 'o']\n",
      "letters[i:i+len(target)]: ['o', 'd']\n",
      "letters[i:i+len(target)]: ['d', 'n']\n",
      "letters[i:i+len(target)]: ['n', 'u']\n",
      "letters[i:i+len(target)]: ['u', 't']\n",
      "letters[i:i+len(target)]: ['t', 'r']\n",
      "letters[i:i+len(target)]: ['r', 'i']\n",
      "letters[i:i+len(target)]: ['i', 't']\n",
      "letters[i:i+len(target)]: ['t', 'i']\n",
      "letters[i:i+len(target)]: ['i', 'o']\n",
      "letters[i:i+len(target)]: ['o', 'n']\n",
      "letters[i:i+len(target)]: ['n']\n",
      "#1 4\n"
     ]
    }
   ],
   "source": [
    "tc = 1\n",
    "target = 'ti'\n",
    "letters = list('Starteatingwellwiththeseeighttipsforhealthyeating,whichcoverthebasicsofahealthydietandgoodnutrition') # 문자열을 리스트화하고,\n",
    "count = 0\n",
    "for i in range(len(letters)): # 문자열리스트 만큼 돌면서,\n",
    "    print('letters[i:i+len(target)]:', letters[i:i+len(target)])\n",
    "    if target in ''.join(letters[i:i+len(target)]): # 검색데이터가 반복하는 인덱스부터 그 인덱스+검색데이터길이를 더한 위치까지의 문자열리스트가 조인한 곳에 있다면,\n",
    "        count += 1 # 더해준다.\n",
    "\n",
    "print('#{} {}'.format(tc, count))"
   ]
  },
  {
   "cell_type": "code",
   "execution_count": null,
   "metadata": {},
   "outputs": [],
   "source": [
    "# magnetic 문제 적용"
   ]
  },
  {
   "cell_type": "code",
   "execution_count": null,
   "metadata": {},
   "outputs": [],
   "source": [
    "def columnCounting(arr):\n",
    "    checked_list = []\n",
    "    for column in result_bigboard:\n",
    "        new_string = ''.join(column)\n",
    "        checked_list.append(new_string.replace('0', '')) # replace 한건 항상 변수에 저장해줘야 한다.\n",
    "    count_list = []\n",
    "    for new_string in checked_list:\n",
    "        count = 0\n",
    "        while True:\n",
    "\n",
    "            pattern = '12'\n",
    "            wall = new_string.find(pattern)\n",
    "            if wall == -1:\n",
    "                count_list.append(count)\n",
    "                break\n",
    "            else:\n",
    "                new_string = new_string[wall+len(pattern):]\n",
    "                count += 1\n",
    "    return sum(count_list)\n",
    "\n",
    "for tc in range(10):\n",
    "\n",
    "    N = int(input())\n",
    "    bigboard = []\n",
    "    for tn in range(N):\n",
    "        bigboard.append(list(map(str, input().split())))\n",
    "\n",
    "    result_bigboard = list(map(list, zip(*bigboard)))\n",
    "    count = columnCounting(result_bigboard)\n",
    "    print(f'#{tc+1} {count}')"
   ]
  },
  {
   "cell_type": "code",
   "execution_count": null,
   "metadata": {},
   "outputs": [],
   "source": [
    "# .count() 함수 사용"
   ]
  },
  {
   "cell_type": "code",
   "execution_count": null,
   "metadata": {},
   "outputs": [],
   "source": [
    "# 문자열.count(패턴) -> 몇개 있는지 값 반환"
   ]
  },
  {
   "cell_type": "code",
   "execution_count": null,
   "metadata": {},
   "outputs": [],
   "source": [
    "def columnCounting(arr):\n",
    "    checked_list = []\n",
    "    for column in result_bigboard:\n",
    "        new_string = ''.join(column)\n",
    "        checked_list.append(new_string.replace('0', '')) # replace 한건 항상 변수에 저장해줘야 한다.\n",
    "    count_list = []\n",
    "    for new_string in checked_list:\n",
    "        count_list.append(new_string.count(pattern))\n",
    "    return sum(count_list)\n",
    "\n",
    "for tc in range(10):\n",
    "\n",
    "    N = int(input())\n",
    "    bigboard = []\n",
    "    for tn in range(N):\n",
    "        bigboard.append(list(map(str, input().split())))\n",
    "\n",
    "    result_bigboard = list(map(list, zip(*bigboard)))\n",
    "    count = columnCounting(result_bigboard)\n",
    "    print(f'#{tc+1} {count}')"
   ]
  }
 ],
 "metadata": {
  "kernelspec": {
   "display_name": "Python 3",
   "language": "python",
   "name": "python3"
  },
  "language_info": {
   "codemirror_mode": {
    "name": "ipython",
    "version": 3
   },
   "file_extension": ".py",
   "mimetype": "text/x-python",
   "name": "python",
   "nbconvert_exporter": "python",
   "pygments_lexer": "ipython3",
   "version": "3.7.3"
  }
 },
 "nbformat": 4,
 "nbformat_minor": 2
}
